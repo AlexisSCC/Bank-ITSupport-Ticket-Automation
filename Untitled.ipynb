{
 "cells": [
  {
   "cell_type": "code",
   "execution_count": 11,
   "id": "2001b411-2906-430f-9358-8bcbc8d8d331",
   "metadata": {},
   "outputs": [
    {
     "name": "stdout",
     "output_type": "stream",
     "text": [
      "Generating 1000 mock support tickets...\n",
      "Mock data saved to support_tickets.csv\n",
      "\n",
      "Sample Statistics:\n",
      "Product distribution:\n",
      "product\n",
      "Account Management System    141\n",
      "Investment Dashboard         132\n",
      "Credit Card Portal           125\n",
      "Bill Payment Service         124\n",
      "Mobile Banking App           123\n",
      "Web Portal                   120\n",
      "ATM Services                 119\n",
      "Loan Application System      116\n",
      "Name: count, dtype: int64\n",
      "\n",
      "Criticality distribution:\n",
      "true_criticality\n",
      "Medium    421\n",
      "Low       346\n",
      "High      233\n",
      "Name: count, dtype: int64\n",
      "\n",
      "Category distribution:\n",
      "true_category\n",
      "Transaction Error    152\n",
      "Login Failure        146\n",
      "Data Discrepancy     146\n",
      "Account Access       146\n",
      "Security Concern     145\n",
      "Feature Request      133\n",
      "App Performance      132\n",
      "Name: count, dtype: int64\n"
     ]
    }
   ],
   "source": [
    "%run C:\\Users\\alexi\\Desktop\\BANK\\generate_mock_data.py"
   ]
  },
  {
   "cell_type": "code",
   "execution_count": 10,
   "id": "0a8e0b6e-223a-475e-86bd-bf8dc8c2f465",
   "metadata": {},
   "outputs": [
    {
     "name": "stdout",
     "output_type": "stream",
     "text": [
      "Requirement already satisfied: pandas in c:\\users\\alexi\\anaconda3\\lib\\site-packages (2.2.2)Note: you may need to restart the kernel to use updated packages.\n",
      "\n",
      "Requirement already satisfied: numpy>=1.26.0 in c:\\users\\alexi\\anaconda3\\lib\\site-packages (from pandas) (1.26.4)\n",
      "Requirement already satisfied: python-dateutil>=2.8.2 in c:\\users\\alexi\\anaconda3\\lib\\site-packages (from pandas) (2.9.0.post0)\n",
      "Requirement already satisfied: pytz>=2020.1 in c:\\users\\alexi\\anaconda3\\lib\\site-packages (from pandas) (2024.1)\n",
      "Requirement already satisfied: tzdata>=2022.7 in c:\\users\\alexi\\anaconda3\\lib\\site-packages (from pandas) (2023.3)\n",
      "Requirement already satisfied: six>=1.5 in c:\\users\\alexi\\anaconda3\\lib\\site-packages (from python-dateutil>=2.8.2->pandas) (1.16.0)\n"
     ]
    }
   ],
   "source": [
    "pip install pandas"
   ]
  },
  {
   "cell_type": "code",
   "execution_count": 4,
   "id": "ef54ea5c-be81-401f-b857-cdf16ef36e53",
   "metadata": {},
   "outputs": [
    {
     "name": "stdout",
     "output_type": "stream",
     "text": [
      "Requirement already satisfied: numpy in c:\\users\\alexi\\anaconda3\\lib\\site-packages (1.26.4)\n",
      "Note: you may need to restart the kernel to use updated packages.\n"
     ]
    }
   ],
   "source": [
    "pip install numpy"
   ]
  },
  {
   "cell_type": "code",
   "execution_count": 5,
   "id": "a9838ea4-fe68-4103-90e3-0215cf48befe",
   "metadata": {},
   "outputs": [
    {
     "name": "stdout",
     "output_type": "stream",
     "text": [
      "Note: you may need to restart the kernel to use updated packages.\n"
     ]
    },
    {
     "name": "stderr",
     "output_type": "stream",
     "text": [
      "ERROR: Could not find a version that satisfies the requirement scikit (from versions: none)\n",
      "ERROR: No matching distribution found for scikit\n"
     ]
    }
   ],
   "source": [
    "pip install scikit"
   ]
  },
  {
   "cell_type": "code",
   "execution_count": 6,
   "id": "317c10a9-1b02-4d20-b749-9407f9955c80",
   "metadata": {},
   "outputs": [
    {
     "name": "stdout",
     "output_type": "stream",
     "text": [
      "Requirement already satisfied: scikit-learn in c:\\users\\alexi\\anaconda3\\lib\\site-packages (1.4.2)Note: you may need to restart the kernel to use updated packages.\n",
      "\n",
      "Requirement already satisfied: numpy>=1.19.5 in c:\\users\\alexi\\anaconda3\\lib\\site-packages (from scikit-learn) (1.26.4)\n",
      "Requirement already satisfied: scipy>=1.6.0 in c:\\users\\alexi\\anaconda3\\lib\\site-packages (from scikit-learn) (1.13.1)\n",
      "Requirement already satisfied: joblib>=1.2.0 in c:\\users\\alexi\\anaconda3\\lib\\site-packages (from scikit-learn) (1.4.2)\n",
      "Requirement already satisfied: threadpoolctl>=2.0.0 in c:\\users\\alexi\\anaconda3\\lib\\site-packages (from scikit-learn) (2.2.0)\n"
     ]
    }
   ],
   "source": [
    "pip install scikit-learn"
   ]
  },
  {
   "cell_type": "code",
   "execution_count": 7,
   "id": "d28d7d04-1c02-44f7-aadf-325747c6f2c4",
   "metadata": {},
   "outputs": [
    {
     "name": "stdout",
     "output_type": "stream",
     "text": [
      "Requirement already satisfied: matplotlib in c:\\users\\alexi\\anaconda3\\lib\\site-packages (3.8.4)Note: you may need to restart the kernel to use updated packages.\n",
      "\n",
      "Requirement already satisfied: contourpy>=1.0.1 in c:\\users\\alexi\\anaconda3\\lib\\site-packages (from matplotlib) (1.2.0)\n",
      "Requirement already satisfied: cycler>=0.10 in c:\\users\\alexi\\anaconda3\\lib\\site-packages (from matplotlib) (0.11.0)\n",
      "Requirement already satisfied: fonttools>=4.22.0 in c:\\users\\alexi\\anaconda3\\lib\\site-packages (from matplotlib) (4.51.0)\n",
      "Requirement already satisfied: kiwisolver>=1.3.1 in c:\\users\\alexi\\anaconda3\\lib\\site-packages (from matplotlib) (1.4.4)\n",
      "Requirement already satisfied: numpy>=1.21 in c:\\users\\alexi\\anaconda3\\lib\\site-packages (from matplotlib) (1.26.4)\n",
      "Requirement already satisfied: packaging>=20.0 in c:\\users\\alexi\\anaconda3\\lib\\site-packages (from matplotlib) (23.2)\n",
      "Requirement already satisfied: pillow>=8 in c:\\users\\alexi\\anaconda3\\lib\\site-packages (from matplotlib) (10.3.0)\n",
      "Requirement already satisfied: pyparsing>=2.3.1 in c:\\users\\alexi\\anaconda3\\lib\\site-packages (from matplotlib) (3.0.9)\n",
      "Requirement already satisfied: python-dateutil>=2.7 in c:\\users\\alexi\\anaconda3\\lib\\site-packages (from matplotlib) (2.9.0.post0)\n",
      "Requirement already satisfied: six>=1.5 in c:\\users\\alexi\\anaconda3\\lib\\site-packages (from python-dateutil>=2.7->matplotlib) (1.16.0)\n"
     ]
    }
   ],
   "source": [
    "pip install matplotlib"
   ]
  },
  {
   "cell_type": "code",
   "execution_count": 8,
   "id": "859b36bf-0bfd-44eb-a6c0-adf4b1c63e0c",
   "metadata": {},
   "outputs": [
    {
     "name": "stdout",
     "output_type": "stream",
     "text": [
      "Collecting faker\n",
      "  Downloading faker-37.1.0-py3-none-any.whl.metadata (15 kB)\n",
      "Requirement already satisfied: tzdata in c:\\users\\alexi\\anaconda3\\lib\\site-packages (from faker) (2023.3)\n",
      "Downloading faker-37.1.0-py3-none-any.whl (1.9 MB)\n",
      "   ---------------------------------------- 0.0/1.9 MB ? eta -:--:--\n",
      "    --------------------------------------- 0.0/1.9 MB 991.0 kB/s eta 0:00:02\n",
      "   -------------- ------------------------- 0.7/1.9 MB 7.3 MB/s eta 0:00:01\n",
      "   ------------------------------------ --- 1.7/1.9 MB 13.8 MB/s eta 0:00:01\n",
      "   ---------------------------------------- 1.9/1.9 MB 12.2 MB/s eta 0:00:00\n",
      "Installing collected packages: faker\n",
      "Successfully installed faker-37.1.0\n",
      "Note: you may need to restart the kernel to use updated packages.\n"
     ]
    }
   ],
   "source": [
    "pip install faker"
   ]
  },
  {
   "cell_type": "code",
   "execution_count": 13,
   "id": "3a3be553-c107-4c80-9539-10d12a40f6ed",
   "metadata": {},
   "outputs": [
    {
     "name": "stdout",
     "output_type": "stream",
     "text": [
      "Starting IT Support Ticket Triage Automation...\n",
      "Processing tickets from support_tickets.csv...\n",
      "Loaded 1000 tickets.\n",
      "Training text classifier for ticket categorization...\n",
      "Classifier accuracy: 1.00\n"
     ]
    },
    {
     "name": "stderr",
     "output_type": "stream",
     "text": [
      "C:\\Users\\alexi\\Desktop\\BANK\\triage_automation.py:413: SettingWithCopyWarning: \n",
      "A value is trying to be set on a copy of a slice from a DataFrame.\n",
      "Try using .loc[row_indexer,col_indexer] = value instead\n",
      "\n",
      "See the caveats in the documentation: https://pandas.pydata.org/pandas-docs/stable/user_guide/indexing.html#returning-a-view-versus-a-copy\n",
      "  l2_l3_tickets['l2_l3_response'] = l2_l3_tickets['category'].apply(generate_l2_l3_response)\n"
     ]
    },
    {
     "name": "stdout",
     "output_type": "stream",
     "text": [
      "Saved 155 L2/L3 tickets to output/tickets_l2_l3.txt\n",
      "Saved customer feedback for 1000 tickets to output/customer_feedback.txt\n",
      "Generated visualizations in output/visualizations\n",
      "Saved processed ticket data to output/processed_tickets.csv\n",
      "\n",
      "Triage Summary:\n",
      "Total tickets: 1000\n",
      "Tickets by category:\n",
      "category\n",
      "Transaction Error    152\n",
      "Login Failure        146\n",
      "Data Discrepancy     146\n",
      "Account Access       146\n",
      "Security Concern     145\n",
      "Feature Request      133\n",
      "App Performance      132\n",
      "Name: count, dtype: int64\n",
      "Tickets by criticality:\n",
      "criticality\n",
      "Low       845\n",
      "Medium    117\n",
      "High       38\n",
      "Name: count, dtype: int64\n",
      "Tickets by root cause:\n",
      "root_cause\n",
      "System Error           430\n",
      "Data Issue             146\n",
      "User Error             146\n",
      "Security Incident      145\n",
      "Enhancement Request    133\n",
      "Name: count, dtype: int64\n",
      "\n",
      "Triage automation completed successfully!\n"
     ]
    }
   ],
   "source": [
    "%run C:\\Users\\alexi\\Desktop\\BANK\\triage_automation.py"
   ]
  },
  {
   "cell_type": "code",
   "execution_count": null,
   "id": "7d491e8c-b4bd-4dee-858d-e11feecbf847",
   "metadata": {},
   "outputs": [],
   "source": []
  }
 ],
 "metadata": {
  "kernelspec": {
   "display_name": "Python 3 (ipykernel)",
   "language": "python",
   "name": "python3"
  },
  "language_info": {
   "codemirror_mode": {
    "name": "ipython",
    "version": 3
   },
   "file_extension": ".py",
   "mimetype": "text/x-python",
   "name": "python",
   "nbconvert_exporter": "python",
   "pygments_lexer": "ipython3",
   "version": "3.12.4"
  }
 },
 "nbformat": 4,
 "nbformat_minor": 5
}
